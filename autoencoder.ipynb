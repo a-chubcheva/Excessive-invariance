{
  "nbformat": 4,
  "nbformat_minor": 0,
  "metadata": {
    "colab": {
      "name": "autoencoder.ipynb",
      "provenance": [],
      "collapsed_sections": []
    },
    "kernelspec": {
      "name": "python3",
      "display_name": "Python 3"
    }
  },
  "cells": [
    {
      "cell_type": "code",
      "metadata": {
        "id": "2CZY9_BdCOry",
        "colab_type": "code",
        "colab": {
          "base_uri": "https://localhost:8080/",
          "height": 129
        },
        "outputId": "000b87ff-9264-487f-feb8-a3bf49b25342"
      },
      "source": [
        "%load_ext autoreload\n",
        "%autoreload 2\n",
        "  \n",
        "from google.colab import drive\n",
        "import sys\n",
        "from pathlib import Path\n",
        "drive.mount(\"/content/drive\", force_remount=True)\n",
        "base = Path('/content/drive/My Drive/Excessive-invariance')\n",
        "sys.path.append(str(base))"
      ],
      "execution_count": 1,
      "outputs": [
        {
          "output_type": "stream",
          "text": [
            "Go to this URL in a browser: https://accounts.google.com/o/oauth2/auth?client_id=947318989803-6bn6qk8qdgf4n4g3pfee6491hc0brc4i.apps.googleusercontent.com&redirect_uri=urn%3aietf%3awg%3aoauth%3a2.0%3aoob&scope=email%20https%3a%2f%2fwww.googleapis.com%2fauth%2fdocs.test%20https%3a%2f%2fwww.googleapis.com%2fauth%2fdrive%20https%3a%2f%2fwww.googleapis.com%2fauth%2fdrive.photos.readonly%20https%3a%2f%2fwww.googleapis.com%2fauth%2fpeopleapi.readonly&response_type=code\n",
            "\n",
            "Enter your authorization code:\n",
            "··········\n",
            "Mounted at /content/drive\n"
          ],
          "name": "stdout"
        }
      ]
    },
    {
      "cell_type": "code",
      "metadata": {
        "id": "dAoFWNFbCpe9",
        "colab_type": "code",
        "colab": {
          "base_uri": "https://localhost:8080/",
          "height": 165
        },
        "outputId": "b00e9471-f706-4df1-bbb5-bde48c41ad97"
      },
      "source": [
        "import os\n",
        "os.chdir(\"/\")\n",
        "os.chdir(\"content/drive/My Drive/Excessive-invariance\")\n",
        "os.listdir()"
      ],
      "execution_count": 2,
      "outputs": [
        {
          "output_type": "execute_result",
          "data": {
            "text/plain": [
              "['Test.ipynb',\n",
              " 'autoencoder.pth',\n",
              " 'semantic_classifier.pth',\n",
              " 'img.jpg',\n",
              " 'data',\n",
              " '__pycache__',\n",
              " 'utils.py',\n",
              " 'autoencoder.ipynb']"
            ]
          },
          "metadata": {
            "tags": []
          },
          "execution_count": 2
        }
      ]
    },
    {
      "cell_type": "code",
      "metadata": {
        "id": "M7rh4SYb2Yl6",
        "colab_type": "code",
        "colab": {}
      },
      "source": [
        "import torch\n",
        "import torch.nn as nn\n",
        "import numpy as np\n",
        "import matplotlib.pyplot as plt\n",
        "import torchvision\n",
        "import torchvision.transforms as transforms\n",
        "import torch.optim as optim\n",
        "from torchvision import datasets\n",
        "from torch.utils.data import DataLoader\n",
        "from torchvision.utils import save_image\n",
        "import torchsummary\n",
        "from torch.autograd import Variable, Function\n",
        "from copy import deepcopy\n",
        "from itertools import chain\n",
        "import math\n",
        "import pandas as pd\n",
        "from PIL import Image\n",
        "\n",
        "from utils import *"
      ],
      "execution_count": 3,
      "outputs": []
    },
    {
      "cell_type": "code",
      "metadata": {
        "id": "8nyvr34idZLr",
        "colab_type": "code",
        "colab": {}
      },
      "source": [
        "num_epochs = 5\n",
        "batch_size = 64\n",
        "num_classes = 10\n",
        "\n",
        "device = torch.device('cuda' if torch.cuda.is_available() else 'cpu')"
      ],
      "execution_count": 4,
      "outputs": []
    },
    {
      "cell_type": "code",
      "metadata": {
        "id": "krIKS-wdeZFn",
        "colab_type": "code",
        "colab": {}
      },
      "source": [
        "transform = transforms.ToTensor()\n",
        "\n",
        "train_data = datasets.MNIST('./data', train=True, download=True, transform=transform);\n",
        "train_loader = DataLoader(train_data, batch_size=batch_size, shuffle=True);\n",
        "\n",
        "val_data = datasets.MNIST('./data', train=False, download=True, transform=transform);\n",
        "val_loader = DataLoader(val_data, batch_size=batch_size, shuffle=False);\n",
        "\n",
        "dataloaders = {'train': train_loader, 'val': val_loader}\n",
        "dataset_sizes = {'train': len(train_data), 'val': len(val_data)}"
      ],
      "execution_count": 5,
      "outputs": []
    },
    {
      "cell_type": "code",
      "metadata": {
        "id": "uLywJcYgfkmk",
        "colab_type": "code",
        "colab": {
          "base_uri": "https://localhost:8080/",
          "height": 431
        },
        "outputId": "d35088e1-7b52-421e-8784-9a836f779d1e"
      },
      "source": [
        "fig = plt.figure(figsize=(6,6))\n",
        "for i in range(16):\n",
        "  index = np.random.randint(len(train_data))\n",
        "  img, label = train_data[index]\n",
        "  fig.add_subplot(4, 4, i+1)\n",
        "#  plt.title('label: {}'.format(label))\n",
        "  plt.axis('off')\n",
        "  plt.imshow(torch.reshape(img, (28,28)))"
      ],
      "execution_count": null,
      "outputs": [
        {
          "output_type": "stream",
          "text": [
            "\n",
            "\n",
            "\n",
            "\n"
          ],
          "name": "stdout"
        },
        {
          "output_type": "display_data",
          "data": {
            "image/png": "[encoded data removed]",
            "text/plain": [
              "<Figure size 432x432 with 16 Axes>"
            ]
          },
          "metadata": {
            "tags": [],
            "needs_background": "light"
          }
        }
      ]
    },
    {
      "cell_type": "markdown",
      "metadata": {
        "id": "FnEmi50tuhDG",
        "colab_type": "text"
      },
      "source": [
        "### Find learning rate"
      ]
    },
    {
      "cell_type": "code",
      "metadata": {
        "id": "ymcoZMquulFb",
        "colab_type": "code",
        "colab": {}
      },
      "source": [
        "# не используется\n",
        "\n",
        "def find_lr(model, dataloader, optimizer, init_value = 1e-8, final_value=10., beta = 0.98):\n",
        "    #based on https://sgugger.github.io/how-do-you-find-a-good-learning-rate.html\n",
        "\n",
        "    num = len(dataloader.dataset)-1\n",
        "    mult = (final_value / init_value) ** (1/num)\n",
        "    lr = init_value\n",
        "    optimizer.param_groups[0]['lr'] = lr\n",
        "    avg_loss = 0.\n",
        "    best_loss = 0.\n",
        "    batch_num = 0\n",
        "    losses = []\n",
        "    log_lrs = []\n",
        "    for inputs,labels in dataloader:\n",
        "        batch_num += 1\n",
        "      #  print(inputs.size())\n",
        "        inputs = inputs.view(inputs.shape[0], -1)\n",
        "        inputs, labels = Variable(inputs), Variable(labels)\n",
        "        optimizer.zero_grad()\n",
        "        logits = autoencoder.encoder(inputs)\n",
        "        semantic = logits[:, :10]\n",
        "        outputs = model(semantic)\n",
        "        loss = criterion(outputs, labels)\n",
        "        #Compute the smoothed loss\n",
        "        avg_loss = beta * avg_loss + (1-beta) *loss.data.item()\n",
        "        smoothed_loss = avg_loss / (1 - beta**batch_num)\n",
        "        #Stop if the loss is exploding\n",
        "        if batch_num > 1 and smoothed_loss > 4 * best_loss:\n",
        "            return log_lrs, losses\n",
        "        #Record the best loss\n",
        "        if smoothed_loss < best_loss or batch_num==1:\n",
        "            best_loss = smoothed_loss\n",
        "        #Store the values\n",
        "        losses.append(smoothed_loss)\n",
        "        log_lrs.append(math.log10(lr))\n",
        "        #Do the SGD step\n",
        "        loss.backward()\n",
        "        optimizer.step()\n",
        "        #Update the lr for the next step\n",
        "        lr *= mult\n",
        "        optimizer.param_groups[0]['lr'] = lr\n",
        "    return log_lrs, losses"
      ],
      "execution_count": null,
      "outputs": []
    },
    {
      "cell_type": "code",
      "metadata": {
        "id": "e1phykVhJD7c",
        "colab_type": "code",
        "colab": {}
      },
      "source": [
        "model_lr = nn.Sequential(nn.Linear(10,32),nn.ReLU(), nn.Linear(32,10)).to(device)\n",
        "optimizer = torch.optim.SGD(model_lr.parameters(), lr=1e-3)"
      ],
      "execution_count": null,
      "outputs": []
    },
    {
      "cell_type": "code",
      "metadata": {
        "id": "XYRx2uJuIbf2",
        "colab_type": "code",
        "colab": {}
      },
      "source": [
        "logs,losses = find_lr(model_lr, train_loader, optimizer)\n",
        "plt.xlabel('loss')\n",
        "plt.ylabel('learning rate')\n",
        "plt.xscale('log')\n",
        "plt.plot(logs[10:-5],losses[10:-5]);"
      ],
      "execution_count": null,
      "outputs": []
    },
    {
      "cell_type": "markdown",
      "metadata": {
        "id": "D4y_7KhIsf0U",
        "colab_type": "text"
      },
      "source": [
        "###Train autoencoder"
      ]
    },
    {
      "cell_type": "code",
      "metadata": {
        "id": "E3H_XqP-_skS",
        "colab_type": "code",
        "colab": {}
      },
      "source": [
        "class Autoencoder(nn.Module):\n",
        "  def __init__(self, input_size=28*28):\n",
        "    super(Autoencoder, self).__init__()\n",
        "    self.encoder = nn.Sequential(\n",
        "        nn.Linear(input_size, 1024),\n",
        "        nn.LeakyReLU(),\n",
        "        nn.Linear(1024, 512),\n",
        "        nn.LeakyReLU(),\n",
        "        nn.Linear(512, 128),\n",
        "        nn.LeakyReLU(),\n",
        "        nn.Linear(128, 64),\n",
        "        nn.LeakyReLU(),\n",
        "        nn.Linear(64, 64),\n",
        "        nn.LeakyReLU())\n",
        "    self.decoder = nn.Sequential(\n",
        "        nn.Linear(64, 64),\n",
        "        nn.LeakyReLU(),\n",
        "        nn.Linear(64, 128),\n",
        "        nn.LeakyReLU(),\n",
        "        nn.Linear(128, 512),\n",
        "        nn.LeakyReLU(),\n",
        "        nn.Linear(512, 1024),\n",
        "        nn.LeakyReLU(),\n",
        "        nn.Linear(1024, input_size),   \n",
        "        nn.Sigmoid())\n",
        "  \n",
        "  def forward(self, x):\n",
        "    x = self.encoder(x)\n",
        "    x = self.decoder(x)\n",
        "    return x\n"
      ],
      "execution_count": 6,
      "outputs": []
    },
    {
      "cell_type": "code",
      "metadata": {
        "id": "MXPG398brfgn",
        "colab_type": "code",
        "colab": {}
      },
      "source": [
        "model = Autoencoder().to(device)\n",
        "criterion = nn.MSELoss().to(device)\n",
        "optimiser = optim.Adam(model.parameters(), lr=1e-3)\n",
        "\n",
        "num_epochs = 10"
      ],
      "execution_count": null,
      "outputs": []
    },
    {
      "cell_type": "code",
      "metadata": {
        "id": "4K0a2G1jrf1F",
        "colab_type": "code",
        "colab": {
          "base_uri": "https://localhost:8080/",
          "height": 386
        },
        "outputId": "b7c9965a-297e-4e1b-e7b0-97167d2dda24"
      },
      "source": [
        "autoencoder, loss_history_ae = train_autoencoder(model, criterion, optimiser, train_loader, num_epochs)"
      ],
      "execution_count": null,
      "outputs": [
        {
          "output_type": "stream",
          "text": [
            "epoch [1/10], loss:0.0281\n",
            "\n",
            "epoch [2/10], loss:0.0208\n",
            "\n",
            "epoch [3/10], loss:0.0166\n",
            "\n",
            "epoch [4/10], loss:0.0181\n",
            "\n",
            "epoch [5/10], loss:0.0177\n",
            "\n",
            "epoch [6/10], loss:0.0128\n",
            "\n",
            "epoch [7/10], loss:0.0151\n",
            "\n",
            "epoch [8/10], loss:0.0144\n",
            "\n",
            "epoch [9/10], loss:0.0119\n",
            "\n",
            "epoch [10/10], loss:0.0106\n",
            "\n"
          ],
          "name": "stdout"
        }
      ]
    },
    {
      "cell_type": "code",
      "metadata": {
        "id": "a9jcbNtA8FUr",
        "colab_type": "code",
        "colab": {
          "base_uri": "https://localhost:8080/",
          "height": 404
        },
        "outputId": "18644638-b51b-45a9-af3c-c10e7b21d0de"
      },
      "source": [
        "plt.figure(figsize=(6,6))\n",
        "plt.title('Autoencoder loss')\n",
        "plt.xticks(range(1,num_epochs+1))\n",
        "plt.xlabel('epoch')\n",
        "plt.ylabel('loss')\n",
        "plt.plot(range(1,num_epochs+1), loss_history_ae,);"
      ],
      "execution_count": null,
      "outputs": [
        {
          "output_type": "display_data",
          "data": {
            "image/png": "[encoded data removed]",
            "text/plain": [
              "<Figure size 432x432 with 1 Axes>"
            ]
          },
          "metadata": {
            "tags": [],
            "needs_background": "light"
          }
        }
      ]
    },
    {
      "cell_type": "code",
      "metadata": {
        "id": "cc0EDbTlDLRA",
        "colab_type": "code",
        "colab": {}
      },
      "source": [
        "# save trained model\n",
        "os.chdir(\"/content/drive/My Drive/Excessive-invariance\")\n",
        "torch.save(autoencoder.state_dict(), \"autoencoder.pth\")\n"
      ],
      "execution_count": null,
      "outputs": []
    },
    {
      "cell_type": "code",
      "metadata": {
        "id": "5NR1hxXRF8ek",
        "colab_type": "code",
        "colab": {
          "base_uri": "https://localhost:8080/",
          "height": 497
        },
        "outputId": "bb0ec968-7d76-4974-d400-561f8cdc4f62"
      },
      "source": [
        "# download pretrained model\n",
        "autoencoder = Autoencoder()\n",
        "autoencoder.load_state_dict(torch.load('autoencoder.pth'))\n",
        "autoencoder.eval()"
      ],
      "execution_count": 7,
      "outputs": [
        {
          "output_type": "execute_result",
          "data": {
            "text/plain": [
              "Autoencoder(\n",
              "  (encoder): Sequential(\n",
              "    (0): Linear(in_features=784, out_features=1024, bias=True)\n",
              "    (1): LeakyReLU(negative_slope=0.01)\n",
              "    (2): Linear(in_features=1024, out_features=512, bias=True)\n",
              "    (3): LeakyReLU(negative_slope=0.01)\n",
              "    (4): Linear(in_features=512, out_features=128, bias=True)\n",
              "    (5): LeakyReLU(negative_slope=0.01)\n",
              "    (6): Linear(in_features=128, out_features=64, bias=True)\n",
              "    (7): LeakyReLU(negative_slope=0.01)\n",
              "    (8): Linear(in_features=64, out_features=64, bias=True)\n",
              "    (9): LeakyReLU(negative_slope=0.01)\n",
              "  )\n",
              "  (decoder): Sequential(\n",
              "    (0): Linear(in_features=64, out_features=64, bias=True)\n",
              "    (1): LeakyReLU(negative_slope=0.01)\n",
              "    (2): Linear(in_features=64, out_features=128, bias=True)\n",
              "    (3): LeakyReLU(negative_slope=0.01)\n",
              "    (4): Linear(in_features=128, out_features=512, bias=True)\n",
              "    (5): LeakyReLU(negative_slope=0.01)\n",
              "    (6): Linear(in_features=512, out_features=1024, bias=True)\n",
              "    (7): LeakyReLU(negative_slope=0.01)\n",
              "    (8): Linear(in_features=1024, out_features=784, bias=True)\n",
              "    (9): Sigmoid()\n",
              "  )\n",
              ")"
            ]
          },
          "metadata": {
            "tags": []
          },
          "execution_count": 7
        }
      ]
    },
    {
      "cell_type": "code",
      "metadata": {
        "id": "HOuxnTYTqrwG",
        "colab_type": "code",
        "colab": {
          "base_uri": "https://localhost:8080/",
          "height": 199
        },
        "outputId": "836acddf-0863-4a86-ae69-3dc240f47ae7"
      },
      "source": [
        "fig = plt.figure(figsize=(6,3))\n",
        "fig.add_subplot(1, 2, 1)\n",
        "index = np.random.randint(len(val_data))\n",
        "img, _ = val_data[index]\n",
        "plt.title('initial')\n",
        "plt.axis('off')\n",
        "plt.imshow(torch.reshape(img, (28,28)));\n",
        "\n",
        "fig.add_subplot(1, 2, 2)\n",
        "img = Variable(img).to(device)\n",
        "img_encoded = autoencoder(img.view(img.shape[0], -1))\n",
        "img_encoded = torch.reshape(img_encoded, (28, 28))\n",
        "plt.title('after autoencoder')\n",
        "plt.axis('off')\n",
        "plt.imshow(img_encoded.cpu().detach());"
      ],
      "execution_count": null,
      "outputs": [
        {
          "output_type": "display_data",
          "data": {
            "image/png": "[encoded data removed]",
            "text/plain": [
              "<Figure size 432x216 with 2 Axes>"
            ]
          },
          "metadata": {
            "tags": [],
            "needs_background": "light"
          }
        }
      ]
    },
    {
      "cell_type": "markdown",
      "metadata": {
        "id": "iKzCgF7DskfB",
        "colab_type": "text"
      },
      "source": [
        "###Train classifier"
      ]
    },
    {
      "cell_type": "code",
      "metadata": {
        "id": "Vc97rFXJRh61",
        "colab_type": "code",
        "colab": {}
      },
      "source": [
        "class Classifier(nn.Module):\n",
        "    def __init__(self, input_size=10):\n",
        "      super(Classifier, self).__init__()\n",
        "      self.classifier = nn.Sequential(\n",
        "          nn.Linear(10,32),\n",
        "          nn.ReLU(),\n",
        "          nn.Linear(32,10))\n",
        "    \n",
        "    def forward(self, x):\n",
        "      # predict by semantic logits - size 10\n",
        "      x = self.classifier(x)\n",
        "      return x\n",
        "    \n",
        "    def predict_by_image(self, img, autoencoder):\n",
        "      # input is (28, 28) or (1, 28, 28) tensor\n",
        "      img = torch.reshape(img, (1, 28*28))\n",
        "      semantic = autoencoder.encoder(img)[:,:10]\n",
        "      output = self.classifier(semantic)\n",
        "      _, preds = torch.max(output, 1)\n",
        "      return preds.item()\n"
      ],
      "execution_count": 8,
      "outputs": []
    },
    {
      "cell_type": "code",
      "metadata": {
        "id": "CFfAFGvJsoJH",
        "colab_type": "code",
        "colab": {}
      },
      "source": [
        "model = Classifier().to(device)\n",
        "#model = nn.Sequential(nn.Linear(10,10), nn.ReLU(), nn.Linear(10,10)).to(device)\n",
        "\n",
        "criterion = nn.CrossEntropyLoss().to(device)\n",
        "#optimizer = optim.Adam(model.parameters(), lr=1e-3)\n",
        "optimizer = optim.Adam(model.parameters(), lr=1e-2)\n",
        "num_epochs = 10"
      ],
      "execution_count": null,
      "outputs": []
    },
    {
      "cell_type": "code",
      "metadata": {
        "id": "GhyOHcY8W4sd",
        "colab_type": "code",
        "colab": {
          "base_uri": "https://localhost:8080/",
          "height": 552
        },
        "outputId": "e235dde9-5d5f-40f5-82db-f16c7bd9b47f"
      },
      "source": [
        "classifier, loss_history, acc_history = train_classifier(model, autoencoder, criterion, optimizer, dataloaders, dataset_sizes, num_epochs)"
      ],
      "execution_count": null,
      "outputs": [
        {
          "output_type": "stream",
          "text": [
            "train epoch [1/10], loss: 0.9251, acc: 0.6797\n",
            "val epoch [1/10], loss: 0.7477, acc: 0.7392\n",
            "\n",
            "train epoch [2/10], loss: 0.6602, acc: 0.7720\n",
            "val epoch [2/10], loss: 0.5881, acc: 0.8013\n",
            "\n",
            "train epoch [3/10], loss: 0.5657, acc: 0.8053\n",
            "val epoch [3/10], loss: 0.5735, acc: 0.8075\n",
            "\n",
            "train epoch [4/10], loss: 0.5185, acc: 0.8229\n",
            "val epoch [4/10], loss: 0.4980, acc: 0.8352\n",
            "\n",
            "train epoch [5/10], loss: 0.4876, acc: 0.8343\n",
            "val epoch [5/10], loss: 0.4657, acc: 0.8480\n",
            "\n",
            "val epoch [6/10], loss: 0.4490, acc: 0.8571\n",
            "\n",
            "train epoch [7/10], loss: 0.4429, acc: 0.8521\n",
            "val epoch [7/10], loss: 0.4367, acc: 0.8609\n",
            "\n",
            "train epoch [8/10], loss: 0.4267, acc: 0.8585\n",
            "val epoch [8/10], loss: 0.4211, acc: 0.8691\n",
            "\n",
            "train epoch [9/10], loss: 0.4179, acc: 0.8608\n",
            "val epoch [9/10], loss: 0.4141, acc: 0.8660\n",
            "\n",
            "train epoch [10/10], loss: 0.4052, acc: 0.8659\n",
            "val epoch [10/10], loss: 0.4054, acc: 0.8717\n",
            "\n"
          ],
          "name": "stdout"
        }
      ]
    },
    {
      "cell_type": "code",
      "metadata": {
        "id": "537uCwxBI2m6",
        "colab_type": "code",
        "colab": {}
      },
      "source": [
        "# save trained model\n",
        "os.chdir(\"/content/drive/My Drive/Excessive-invariance\")\n",
        "torch.save(classifier.state_dict(), \"semantic_classifier.pth\")"
      ],
      "execution_count": null,
      "outputs": []
    },
    {
      "cell_type": "code",
      "metadata": {
        "id": "6P5zXqP7I9Nr",
        "colab_type": "code",
        "colab": {
          "base_uri": "https://localhost:8080/",
          "height": 146
        },
        "outputId": "df470860-6241-4542-8756-11a21b09692e"
      },
      "source": [
        "#download pretrained model\n",
        "classifier = Classifier().to(device)\n",
        "classifier.load_state_dict(torch.load('semantic_classifier.pth'))\n",
        "classifier.eval()"
      ],
      "execution_count": 9,
      "outputs": [
        {
          "output_type": "execute_result",
          "data": {
            "text/plain": [
              "Classifier(\n",
              "  (classifier): Sequential(\n",
              "    (0): Linear(in_features=10, out_features=32, bias=True)\n",
              "    (1): ReLU()\n",
              "    (2): Linear(in_features=32, out_features=10, bias=True)\n",
              "  )\n",
              ")"
            ]
          },
          "metadata": {
            "tags": []
          },
          "execution_count": 9
        }
      ]
    },
    {
      "cell_type": "code",
      "metadata": {
        "id": "Cf4XGcbY_D2w",
        "colab_type": "code",
        "colab": {
          "base_uri": "https://localhost:8080/",
          "height": 390
        },
        "outputId": "f60b8453-3b1e-453c-9922-2399b1d74876"
      },
      "source": [
        "fig = plt.figure(figsize=(12,6))\n",
        "fig.add_subplot(1, 2, 1)\n",
        "plt.title('Classifier loss')\n",
        "plt.xticks(range(1,num_epochs+1))\n",
        "plt.plot(range(1,num_epochs+1), loss_history['train'], 'r--')\n",
        "plt.plot(range(1,num_epochs+1), loss_history['val'], 'b-')\n",
        "plt.legend(['Training Loss', 'Test Loss']);\n",
        "\n",
        "fig.add_subplot(1, 2, 2)\n",
        "plt.title('Classifier accuracy')\n",
        "plt.xticks(range(1,num_epochs+1))\n",
        "plt.plot(range(1,num_epochs+1), acc_history['train'], 'r--')\n",
        "plt.plot(range(1,num_epochs+1), acc_history['val'], 'b-')\n",
        "plt.legend(['Training accuracy', 'Test accuracy']);"
      ],
      "execution_count": null,
      "outputs": [
        {
          "output_type": "display_data",
          "data": {
            "image/png": "[encoded data removed]",
            "text/plain": [
              "<Figure size 864x432 with 2 Axes>"
            ]
          },
          "metadata": {
            "tags": [],
            "needs_background": "light"
          }
        }
      ]
    },
    {
      "cell_type": "markdown",
      "metadata": {
        "id": "TcXFRbaMUX6e",
        "colab_type": "text"
      },
      "source": [
        "### Build full model with domain adaptation loss\n",
        "\n",
        "---\n",
        "\n"
      ]
    },
    {
      "cell_type": "code",
      "metadata": {
        "id": "eGW4BxGRJxUU",
        "colab_type": "code",
        "colab": {}
      },
      "source": [
        "class Reversal_layer(Function):\n",
        "  @staticmethod\n",
        "  def forward(self, x):\n",
        "    return x\n",
        "  \n",
        "  @staticmethod\n",
        "  def backward(self, grad):\n",
        "    return grad.neg()"
      ],
      "execution_count": 11,
      "outputs": []
    },
    {
      "cell_type": "code",
      "metadata": {
        "id": "47NI24a3Udme",
        "colab_type": "code",
        "colab": {}
      },
      "source": [
        "class Full_model(nn.Module):\n",
        "  def __init__(self):\n",
        "      super(Full_model, self).__init__()\n",
        "      self.autoencoder = Autoencoder()\n",
        "\n",
        "      self.semantic_classifier = Classifier()\n",
        "\n",
        "      self.nuisance_classifier = nn.Sequential(\n",
        "          nn.Linear(54, 32),\n",
        "          nn.ReLU(),\n",
        "          nn.Linear(32, 10))\n",
        "      \n",
        "  def forward(self, img):\n",
        "      logits = self.autoencoder.encoder(img)\n",
        "      semantic = logits[:, :10]\n",
        "      nuisance = logits[:, 10:]\n",
        "      nuisance = Reversal_layer.apply(nuisance)\n",
        "      class_output = self.semantic_classifier(semantic)\n",
        "      domain_output = self.nuisance_classifier(nuisance)\n",
        "\n",
        "      return class_output, domain_output\n"
      ],
      "execution_count": 12,
      "outputs": []
    },
    {
      "cell_type": "code",
      "metadata": {
        "id": "RGr0PFUncqsC",
        "colab_type": "code",
        "colab": {}
      },
      "source": [
        "def train_full_model(model, oprimizer, class_criterion, domain_criterion, dataloaders, num_epochs):\n",
        "\n",
        "  loss_history = {'train': [], 'val': []}\n",
        "  acc_history = {'train': [], 'val': []}\n",
        "\n",
        "  for epoch in range(num_epochs):\n",
        "    for phase in ['train', 'val']:\n",
        "        if phase == 'train':\n",
        "            model.train()\n",
        "        else:\n",
        "            model.eval()\n",
        "        epoch_class_loss = 0.\n",
        "        epoch_domain_loss = 0.\n",
        "        running_correct = 0\n",
        "        running_loss = 0.\n",
        "\n",
        "        for inputs, labels in dataloaders[phase]:\n",
        "            inputs = inputs.view(inputs.shape[0], -1)\n",
        "            inputs = Variable(inputs.to(device))\n",
        "            class_labels = Variable(labels.to(device))\n",
        "\n",
        "            #make domain binary labels\n",
        "            domain_labels = torch.zeros((len(inputs), 10)).float()\n",
        "            for i in range(len(labels.data)):\n",
        "                domain_labels.data[i][labels.data[i]] = 1.\n",
        "            domain_labels = Variable(domain_labels.to(device))\n",
        "\n",
        "            optimizer.zero_grad()\n",
        "\n",
        "            class_output, domain_output = model(inputs)\n",
        "            _, class_preds = torch.max(class_output, 1)\n",
        "            class_loss = class_criterion(class_output, class_labels)\n",
        "            running_correct += torch.sum(class_labels == class_preds.data)          \n",
        "\n",
        "            domain_loss = domain_criterion(domain_output, domain_labels)\n",
        "\n",
        "          #  epoch_class_loss += class_loss\n",
        "          #  epoch_domain_loss += domain_loss\n",
        "            loss = class_loss - domain_loss\n",
        "            running_loss += loss * inputs.size(0)\n",
        "            if phase == 'train':\n",
        "                loss.backward()\n",
        "                optimizer.step()\n",
        "\n",
        "        epoch_acc = running_correct.double() / len(dataloaders[phase].dataset)\n",
        "        epoch_loss = running_loss / len(dataloaders[phase].dataset)\n",
        "        acc_history[phase].append(epoch_acc)\n",
        "        loss_history[phase].append(epoch_loss)\n",
        "            \n",
        "        print('{} epoch [{}/{}], class acc: {:.4f}, loss: {:.4f}'.format(\n",
        "                  phase, epoch+1, num_epochs, epoch_acc, epoch_loss))\n",
        "    \n",
        "  return model, acc_history, loss_history\n"
      ],
      "execution_count": 32,
      "outputs": []
    },
    {
      "cell_type": "code",
      "metadata": {
        "id": "lm6qUsljvrnb",
        "colab_type": "code",
        "colab": {}
      },
      "source": [
        "model = Full_model()\n",
        "model.autoencoder = autoencoder\n",
        "\n",
        "params_to_update = chain(model.semantic_classifier.parameters(),model.nuisance_classifier.parameters())\n",
        "\n",
        "optimizer = torch.optim.Adam(params_to_update, lr=1e-2)\n",
        "\n",
        "num_epochs = 10"
      ],
      "execution_count": 33,
      "outputs": []
    },
    {
      "cell_type": "code",
      "metadata": {
        "id": "7a9HBOViu1-7",
        "colab_type": "code",
        "colab": {
          "base_uri": "https://localhost:8080/",
          "height": 386
        },
        "outputId": "a79015b4-690a-4377-920b-11e2f784e65e"
      },
      "source": [
        "full_model, acc_history, loss_history = train_full_model(model, optimizer, nn.CrossEntropyLoss(), nn.BCEWithLogitsLoss(), dataloaders, num_epochs)"
      ],
      "execution_count": 36,
      "outputs": [
        {
          "output_type": "stream",
          "text": [
            "train epoch [1/10], class acc: 0.8156, loss: -2534866.0000\n",
            "val epoch [1/10], class acc: 0.8274, loss: -3259148.0000\n",
            "train epoch [2/10], class acc: 0.8321, loss: -4057291.0000\n",
            "val epoch [2/10], class acc: 0.8432, loss: -4928241.5000\n",
            "train epoch [3/10], class acc: 0.8425, loss: -5857344.0000\n",
            "val epoch [3/10], class acc: 0.8466, loss: -6867680.5000\n",
            "train epoch [4/10], class acc: 0.8489, loss: -7920910.0000\n",
            "val epoch [4/10], class acc: 0.8588, loss: -9066248.0000\n",
            "train epoch [5/10], class acc: 0.8569, loss: -10239032.0000\n",
            "val epoch [5/10], class acc: 0.8549, loss: -11517367.0000\n",
            "train epoch [6/10], class acc: 0.8605, loss: -12808386.0000\n",
            "val epoch [6/10], class acc: 0.8575, loss: -14219836.0000\n",
            "train epoch [7/10], class acc: 0.8654, loss: -15626934.0000\n",
            "val epoch [7/10], class acc: 0.8534, loss: -17171246.0000\n",
            "train epoch [8/10], class acc: 0.8691, loss: -18691332.0000\n",
            "val epoch [8/10], class acc: 0.8694, loss: -20366494.0000\n",
            "train epoch [9/10], class acc: 0.8721, loss: -22000834.0000\n",
            "val epoch [9/10], class acc: 0.8756, loss: -23808984.0000\n",
            "train epoch [10/10], class acc: 0.8762, loss: -25553846.0000\n",
            "val epoch [10/10], class acc: 0.8758, loss: -27494394.0000\n"
          ],
          "name": "stdout"
        }
      ]
    },
    {
      "cell_type": "code",
      "metadata": {
        "id": "IquxBKXsu16_",
        "colab_type": "code",
        "colab": {
          "base_uri": "https://localhost:8080/",
          "height": 390
        },
        "outputId": "7a4435b2-801a-4c32-cebf-68ffc277e774"
      },
      "source": [
        "fig = plt.figure(figsize=(12,6))\n",
        "fig.add_subplot(1, 2, 1)\n",
        "plt.title('Loss')\n",
        "plt.xticks(range(1,num_epochs+1))\n",
        "plt.plot(range(1,num_epochs+1), loss_history['train'], 'r--')\n",
        "plt.plot(range(1,num_epochs+1), loss_history['val'], 'b-')\n",
        "plt.legend(['Training Loss', 'Test Loss']);\n",
        "\n",
        "fig.add_subplot(1, 2, 2)\n",
        "plt.title('Accuracy')\n",
        "plt.xticks(range(1,num_epochs+1))\n",
        "plt.plot(range(1,num_epochs+1), acc_history['train'], 'r--')\n",
        "plt.plot(range(1,num_epochs+1), acc_history['val'], 'b-')\n",
        "plt.legend(['Training accuracy', 'Test accuracy']);\n"
      ],
      "execution_count": 37,
      "outputs": [
        {
          "output_type": "display_data",
          "data": {
            "image/png": "[encoded data removed]",
            "text/plain": [
              "<Figure size 864x432 with 2 Axes>"
            ]
          },
          "metadata": {
            "tags": [],
            "needs_background": "light"
          }
        }
      ]
    },
    {
      "cell_type": "markdown",
      "metadata": {
        "id": "gPgGdQssuD3U",
        "colab_type": "text"
      },
      "source": [
        "### Attack it"
      ]
    },
    {
      "cell_type": "code",
      "metadata": {
        "id": "HhnWidAa0pQ1",
        "colab_type": "code",
        "colab": {}
      },
      "source": [
        "def attack(encoder, classifier, input, target, num_iter, alpha, collect_data=False):\n",
        "  with torch.set_grad_enabled(True):\n",
        "    input = torch.reshape(input, (1, 28*28))\n",
        "    target = torch.reshape(target, (1, 28*28))\n",
        "\n",
        "    first_flip = -1   # when label changes to target label fot the first time\n",
        "    init_label = classifier.predict_by_image(input, autoencoder)\n",
        "    target_label = classifier.predict_by_image(target, autoencoder)\n",
        "    output_targ = encoder(target)[:, :10]\n",
        "    best_loss = 10000.\n",
        "    if collect_data:\n",
        "        labels_results = pd.DataFrame(columns=['input', 'target', 'current', 'iteration', 'jpeg'])\n",
        "    else:\n",
        "        labels_results = None\n",
        "\n",
        "    img = deepcopy(input)\n",
        "    best_img = deepcopy(img)\n",
        "    img = Variable(img, requires_grad=True)\n",
        "\n",
        "    for i in range(num_iter):\n",
        "      output = encoder(img)[:, :10]\n",
        "      loss = torch.norm(output - output_targ, p=2)\n",
        "      loss.backward(retain_graph=True)\n",
        "\n",
        "      if loss.item() < best_loss:\n",
        "        best_loss = loss.item()\n",
        "        best_img = deepcopy(img)\n",
        "      \n",
        "      #gradien descent step\n",
        "      img.data -= alpha * torch.sign(img.grad.data)\n",
        "\n",
        "      curr_label = classifier.predict_by_image(img, autoencoder)\n",
        "      if curr_label == target_label and first_flip == -1:\n",
        "        first_flip = i\n",
        "\n",
        "      # testing jpeg and collecting results\n",
        "      if collect_data:\n",
        "        if first_flip != -1:    # attack was made\n",
        "          img_jpeg = to_jpg_and_back(img)\n",
        "          jpeg_label = classifier.predict_by_image(img_jpeg, autoencoder)\n",
        "          labels_results = labels_results.append({'input': init_label,\n",
        "                                 'target': target_label,\n",
        "                                 'current': curr_label,\n",
        "                                 'iteration': i,\n",
        "                                 'jpeg': jpeg_label},\n",
        "                                ignore_index=True)\n",
        "\n",
        "  return best_img, best_loss, first_flip, labels_results"
      ],
      "execution_count": 38,
      "outputs": []
    },
    {
      "cell_type": "code",
      "metadata": {
        "id": "wWF8wlSS408E",
        "colab_type": "code",
        "colab": {
          "base_uri": "https://localhost:8080/",
          "height": 301
        },
        "outputId": "abafd06c-6522-4302-a552-dd4debfc83e3"
      },
      "source": [
        "index1 = np.random.randint(len(val_loader.dataset))\n",
        "img1, label1 = val_loader.dataset[index1]\n",
        "plt.title('label: {}'.format(label1))\n",
        "plt.axis('off')\n",
        "plt.imshow(torch.reshape(img1, (28,28)));\n",
        "\n",
        "print(\"full model prediction: \", full_model.semantic_classifier.predict_by_image(img1, full_model.autoencoder))\n",
        "print(\"classifier prediction: \", classifier.predict_by_image(img1, autoencoder))"
      ],
      "execution_count": 53,
      "outputs": [
        {
          "output_type": "stream",
          "text": [
            "full model prediction:  6\n",
            "classifier prediction:  6\n"
          ],
          "name": "stdout"
        },
        {
          "output_type": "display_data",
          "data": {
            "image/png": "[encoded data removed]",
            "text/plain": [
              "<Figure size 432x288 with 1 Axes>"
            ]
          },
          "metadata": {
            "tags": [],
            "needs_background": "light"
          }
        }
      ]
    },
    {
      "cell_type": "code",
      "metadata": {
        "id": "2uxTMr1NiX5r",
        "colab_type": "code",
        "colab": {
          "base_uri": "https://localhost:8080/",
          "height": 301
        },
        "outputId": "074f1c60-5e38-44fd-b0f0-d63bf697bfc8"
      },
      "source": [
        "index2 = np.random.randint(len(val_loader.dataset))\n",
        "img2, label2 = val_loader.dataset[index2]\n",
        "plt.title('label: {}'.format(label2))\n",
        "plt.axis('off')\n",
        "plt.imshow(torch.reshape(img2, (28,28)));\n",
        "\n",
        "print(\"full model prediction: \", full_model.semantic_classifier.predict_by_image(img2, full_model.autoencoder))\n",
        "print(\"classifier prediction: \", classifier.predict_by_image(img2, autoencoder))"
      ],
      "execution_count": 49,
      "outputs": [
        {
          "output_type": "stream",
          "text": [
            "full model prediction:  5\n",
            "classifier prediction:  5\n"
          ],
          "name": "stdout"
        },
        {
          "output_type": "display_data",
          "data": {
            "image/png": "[encoded data removed]",
            "text/plain": [
              "<Figure size 432x288 with 1 Axes>"
            ]
          },
          "metadata": {
            "tags": [],
            "needs_background": "light"
          }
        }
      ]
    },
    {
      "cell_type": "code",
      "metadata": {
        "id": "T2w6eP5ois9x",
        "colab_type": "code",
        "colab": {
          "base_uri": "https://localhost:8080/",
          "height": 301
        },
        "outputId": "78b6f013-5171-4e3c-90b1-1a3d260e5763"
      },
      "source": [
        "adv, _, flip, df = attack(autoencoder.encoder, classifier, img1, img2, 60, 1./255, True)\n",
        "\n",
        "plt.imshow(torch.reshape(adv, (28, 28)).detach());\n",
        "print(\"with domain adaptation: \", full_model.semantic_classifier.predict_by_image(adv, full_model.autoencoder))\n",
        "print(\"no domain adaptation: label {}, flip iter: {}\".format(classifier.predict_by_image(adv, autoencoder), flip))"
      ],
      "execution_count": 57,
      "outputs": [
        {
          "output_type": "stream",
          "text": [
            "with domain adaptation:  4\n",
            "no domain adaptation: label 5, flip iter: 49\n"
          ],
          "name": "stdout"
        },
        {
          "output_type": "display_data",
          "data": {
            "image/png": "[encoded data removed]",
            "text/plain": [
              "<Figure size 432x288 with 1 Axes>"
            ]
          },
          "metadata": {
            "tags": [],
            "needs_background": "light"
          }
        }
      ]
    },
    {
      "cell_type": "code",
      "metadata": {
        "id": "ktOJtiSEupwa",
        "colab_type": "code",
        "colab": {
          "base_uri": "https://localhost:8080/",
          "height": 387
        },
        "outputId": "984670da-9df1-4d22-c08d-b881dc4b00ba"
      },
      "source": [
        "df"
      ],
      "execution_count": 62,
      "outputs": [
        {
          "output_type": "execute_result",
          "data": {
            "text/html": [
              "<div>\n",
              "<style scoped>\n",
              "    .dataframe tbody tr th:only-of-type {\n",
              "        vertical-align: middle;\n",
              "    }\n",
              "\n",
              "    .dataframe tbody tr th {\n",
              "        vertical-align: top;\n",
              "    }\n",
              "\n",
              "    .dataframe thead th {\n",
              "        text-align: right;\n",
              "    }\n",
              "</style>\n",
              "<table border=\"1\" class=\"dataframe\">\n",
              "  <thead>\n",
              "    <tr style=\"text-align: right;\">\n",
              "      <th></th>\n",
              "      <th>input</th>\n",
              "      <th>target</th>\n",
              "      <th>current</th>\n",
              "      <th>iteration</th>\n",
              "      <th>jpeg</th>\n",
              "    </tr>\n",
              "  </thead>\n",
              "  <tbody>\n",
              "    <tr>\n",
              "      <th>0</th>\n",
              "      <td>6</td>\n",
              "      <td>5</td>\n",
              "      <td>5</td>\n",
              "      <td>49</td>\n",
              "      <td>8</td>\n",
              "    </tr>\n",
              "    <tr>\n",
              "      <th>1</th>\n",
              "      <td>6</td>\n",
              "      <td>5</td>\n",
              "      <td>5</td>\n",
              "      <td>50</td>\n",
              "      <td>8</td>\n",
              "    </tr>\n",
              "    <tr>\n",
              "      <th>2</th>\n",
              "      <td>6</td>\n",
              "      <td>5</td>\n",
              "      <td>5</td>\n",
              "      <td>51</td>\n",
              "      <td>8</td>\n",
              "    </tr>\n",
              "    <tr>\n",
              "      <th>3</th>\n",
              "      <td>6</td>\n",
              "      <td>5</td>\n",
              "      <td>5</td>\n",
              "      <td>52</td>\n",
              "      <td>8</td>\n",
              "    </tr>\n",
              "    <tr>\n",
              "      <th>4</th>\n",
              "      <td>6</td>\n",
              "      <td>5</td>\n",
              "      <td>5</td>\n",
              "      <td>53</td>\n",
              "      <td>8</td>\n",
              "    </tr>\n",
              "    <tr>\n",
              "      <th>5</th>\n",
              "      <td>6</td>\n",
              "      <td>5</td>\n",
              "      <td>5</td>\n",
              "      <td>54</td>\n",
              "      <td>8</td>\n",
              "    </tr>\n",
              "    <tr>\n",
              "      <th>6</th>\n",
              "      <td>6</td>\n",
              "      <td>5</td>\n",
              "      <td>5</td>\n",
              "      <td>55</td>\n",
              "      <td>8</td>\n",
              "    </tr>\n",
              "    <tr>\n",
              "      <th>7</th>\n",
              "      <td>6</td>\n",
              "      <td>5</td>\n",
              "      <td>5</td>\n",
              "      <td>56</td>\n",
              "      <td>8</td>\n",
              "    </tr>\n",
              "    <tr>\n",
              "      <th>8</th>\n",
              "      <td>6</td>\n",
              "      <td>5</td>\n",
              "      <td>5</td>\n",
              "      <td>57</td>\n",
              "      <td>8</td>\n",
              "    </tr>\n",
              "    <tr>\n",
              "      <th>9</th>\n",
              "      <td>6</td>\n",
              "      <td>5</td>\n",
              "      <td>5</td>\n",
              "      <td>58</td>\n",
              "      <td>8</td>\n",
              "    </tr>\n",
              "    <tr>\n",
              "      <th>10</th>\n",
              "      <td>6</td>\n",
              "      <td>5</td>\n",
              "      <td>5</td>\n",
              "      <td>59</td>\n",
              "      <td>8</td>\n",
              "    </tr>\n",
              "  </tbody>\n",
              "</table>\n",
              "</div>"
            ],
            "text/plain": [
              "   input target current iteration jpeg\n",
              "0      6      5       5        49    8\n",
              "1      6      5       5        50    8\n",
              "2      6      5       5        51    8\n",
              "3      6      5       5        52    8\n",
              "4      6      5       5        53    8\n",
              "5      6      5       5        54    8\n",
              "6      6      5       5        55    8\n",
              "7      6      5       5        56    8\n",
              "8      6      5       5        57    8\n",
              "9      6      5       5        58    8\n",
              "10     6      5       5        59    8"
            ]
          },
          "metadata": {
            "tags": []
          },
          "execution_count": 62
        }
      ]
    },
    {
      "cell_type": "code",
      "metadata": {
        "id": "zMQyflopQ4Su",
        "colab_type": "code",
        "colab": {}
      },
      "source": [
        ""
      ],
      "execution_count": null,
      "outputs": []
    },
    {
      "cell_type": "markdown",
      "metadata": {
        "id": "Bj4kcmGX5D8-",
        "colab_type": "text"
      },
      "source": [
        "### JPEG convertation"
      ]
    },
    {
      "cell_type": "code",
      "metadata": {
        "id": "J2ZSOcAj5IGt",
        "colab_type": "code",
        "colab": {}
      },
      "source": [
        "def to_jpg_and_back(img):\n",
        "  img = torch.reshape(img, (28, 28))\n",
        "  img = img.data.cpu().numpy()\n",
        "\n",
        "  #make jpg\n",
        "  img = img * 255.0\n",
        "  img = np.clip(img, 0, 255).astype(np.uint8)\n",
        "  img_pil = torchvision.transforms.ToPILImage()(img)\n",
        "  img_pil.save('img.jpg', 'JPEG')\n",
        "\n",
        "  #back to tensor\n",
        "  img_back = (np.asarray(Image.open('img.jpg')) / 255.0).astype(np.float32)\n",
        "  transform = transforms.ToTensor()\n",
        "  img_back = transform(img_back)\n",
        "  img_back = torch.reshape(img_back, (1, 28, 28))\n",
        "  \n",
        "  return img_back"
      ],
      "execution_count": 56,
      "outputs": []
    },
    {
      "cell_type": "code",
      "metadata": {
        "id": "cAvfSXN358Ma",
        "colab_type": "code",
        "colab": {
          "base_uri": "https://localhost:8080/",
          "height": 283
        },
        "outputId": "fc657889-b9bd-4ab7-fd42-93ec58e0717a"
      },
      "source": [
        "adv_jpg = to_jpg_and_back(adv)\n",
        "plt.imshow(adv_jpg[0])\n",
        "\n",
        "print('classifier prediction: ', classifier.predict_by_image(adv_jpg, autoencoder))"
      ],
      "execution_count": 65,
      "outputs": [
        {
          "output_type": "stream",
          "text": [
            "classifier prediction:  8\n"
          ],
          "name": "stdout"
        },
        {
          "output_type": "display_data",
          "data": {
            "image/png": "[encoded data removed]",
            "text/plain": [
              "<Figure size 432x288 with 1 Axes>"
            ]
          },
          "metadata": {
            "tags": [],
            "needs_background": "light"
          }
        }
      ]
    },
    {
      "cell_type": "code",
      "metadata": {
        "id": "mtB59Za168Bi",
        "colab_type": "code",
        "colab": {}
      },
      "source": [
        ""
      ],
      "execution_count": null,
      "outputs": []
    }
  ]
}